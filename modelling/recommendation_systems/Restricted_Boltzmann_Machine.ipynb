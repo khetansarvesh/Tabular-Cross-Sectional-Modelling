{
  "cells": [
    {
      "cell_type": "markdown",
      "metadata": {
        "id": "3Nxq0Dv6vDPs"
      },
      "source": [
        "[![Open In Colab](https://colab.research.google.com/assets/colab-badge.svg)](https://colab.research.google.com/github/khetansarvesh/Tabular-Cross-Sectional-Modelling/blob/main/modelling/recommendation_systems/Restricted_Boltzmann_Machine.ipynb)"
      ]
    },
    {
      "cell_type": "markdown",
      "metadata": {
        "id": "gETer6JBbz0i"
      },
      "source": [
        "to create a recommendation engine to predict whether a user will like a movie or not\n"
      ]
    },
    {
      "cell_type": "code",
      "execution_count": 1,
      "metadata": {
        "id": "D3Fude_NO79v"
      },
      "outputs": [],
      "source": [
        "import numpy as np\n",
        "import pandas as pd\n",
        "import torch\n",
        "import torch.nn as nn\n",
        "import torch.nn.parallel\n",
        "import torch.optim as optim\n",
        "import torch.utils.data\n",
        "from torch.autograd import Variable"
      ]
    },
    {
      "cell_type": "code",
      "execution_count": 2,
      "metadata": {
        "colab": {
          "base_uri": "https://localhost:8080/"
        },
        "id": "LY3mhV5CD5fl",
        "outputId": "93060a62-c171-456f-eef8-da518f666112"
      },
      "outputs": [
        {
          "output_type": "stream",
          "name": "stdout",
          "text": [
            "Cloning into 'Tabular-Cross-Sectional-Modelling'...\n",
            "remote: Enumerating objects: 534, done.\u001b[K\n",
            "remote: Counting objects: 100% (271/271), done.\u001b[K\n",
            "remote: Compressing objects: 100% (227/227), done.\u001b[K\n",
            "remote: Total 534 (delta 187), reused 80 (delta 44), pack-reused 263\u001b[K\n",
            "Receiving objects: 100% (534/534), 10.99 MiB | 8.16 MiB/s, done.\n",
            "Resolving deltas: 100% (316/316), done.\n"
          ]
        }
      ],
      "source": [
        "!git clone https://github.com/khetansarvesh/Tabular-Cross-Sectional-Modelling.git"
      ]
    },
    {
      "cell_type": "code",
      "execution_count": 3,
      "metadata": {
        "colab": {
          "base_uri": "https://localhost:8080/"
        },
        "id": "QbdRrNDAFNRW",
        "outputId": "0e92bc96-30f8-46f1-d326-766c3b99552e"
      },
      "outputs": [
        {
          "output_type": "stream",
          "name": "stdout",
          "text": [
            "/content/Tabular-Cross-Sectional-Modelling/dataset/movie_rating_dataset\n"
          ]
        }
      ],
      "source": [
        "%cd Tabular-Cross-Sectional-Modelling/dataset/movie_rating_dataset"
      ]
    },
    {
      "cell_type": "markdown",
      "metadata": {
        "id": "oZg9zk82PPP_"
      },
      "source": [
        "# **Dataset**"
      ]
    },
    {
      "cell_type": "code",
      "execution_count": 4,
      "metadata": {
        "id": "nNMbC3QPFjNx"
      },
      "outputs": [],
      "source": [
        "# train dataset\n",
        "train_df = pd.read_csv('train_df.csv')\n",
        "train_set = np.array(train_df)\n",
        "training_set = torch.FloatTensor(train_set)\n",
        "\n",
        "training_set[training_set == 0] = -1\n",
        "training_set[training_set == 1] = 0\n",
        "training_set[training_set == 2] = 0\n",
        "training_set[training_set >= 3] = 1"
      ]
    },
    {
      "cell_type": "code",
      "execution_count": 5,
      "metadata": {
        "id": "TwD-KD8yiEEw"
      },
      "outputs": [],
      "source": [
        "# test dataset\n",
        "test_df = pd.read_csv('test_df.csv')\n",
        "test_set = np.array(test_df)\n",
        "test_set = torch.FloatTensor(test_set)\n",
        "\n",
        "test_set[test_set == 0] = -1\n",
        "test_set[test_set == 1] = 0\n",
        "test_set[test_set == 2] = 0\n",
        "test_set[test_set >= 3] = 1"
      ]
    },
    {
      "cell_type": "code",
      "execution_count": 6,
      "metadata": {
        "id": "Hx-KW-rTbUYQ"
      },
      "outputs": [],
      "source": [
        "nb_users = train_df.shape[0]\n",
        "nb_movies = train_df.shape[1]"
      ]
    },
    {
      "cell_type": "markdown",
      "metadata": {
        "id": "6kkL8NkkdlZj"
      },
      "source": [
        "# **Modelling**\n"
      ]
    },
    {
      "cell_type": "code",
      "execution_count": 7,
      "metadata": {
        "id": "oU2nyh76iE6M"
      },
      "outputs": [],
      "source": [
        "class RBM():\n",
        "\n",
        "  def __init__(self, nv, nh):\n",
        "    self.W = torch.randn(nh, nv)\n",
        "    self.a = torch.randn(1, nh)\n",
        "    self.b = torch.randn(1, nv)\n",
        "\n",
        "  def sample_h(self, x):\n",
        "    wx = torch.mm(x, self.W.t())\n",
        "    activation = wx + self.a.expand_as(wx)\n",
        "    p_h_given_v = torch.sigmoid(activation)\n",
        "    return p_h_given_v, torch.bernoulli(p_h_given_v)\n",
        "\n",
        "  def sample_v(self, y):\n",
        "    wy = torch.mm(y, self.W)\n",
        "    activation = wy + self.b.expand_as(wy)\n",
        "    p_v_given_h = torch.sigmoid(activation)\n",
        "    return p_v_given_h, torch.bernoulli(p_v_given_h)\n",
        "\n",
        "  def train(self, v0, vk, ph0, phk):\n",
        "    self.W += (torch.mm(v0.t(), ph0) - torch.mm(vk.t(), phk)).t()\n",
        "    self.b += torch.sum((v0 - vk), 0)\n",
        "    self.a += torch.sum((ph0 - phk), 0)"
      ]
    },
    {
      "cell_type": "markdown",
      "metadata": {
        "id": "7gy59alAdloL"
      },
      "source": [
        "# **Training**\n"
      ]
    },
    {
      "cell_type": "code",
      "source": [
        "nv = len(training_set[0])\n",
        "nh = 100\n",
        "batch_size = 100\n",
        "rbm = RBM(nv, nh)"
      ],
      "metadata": {
        "id": "pM3Nv9lTv3Ke"
      },
      "execution_count": null,
      "outputs": []
    },
    {
      "cell_type": "code",
      "execution_count": 8,
      "metadata": {
        "colab": {
          "base_uri": "https://localhost:8080/"
        },
        "id": "FEz9hRaciFTs",
        "outputId": "4ed126fa-5995-432c-d85d-9021d36943d9"
      },
      "outputs": [
        {
          "output_type": "stream",
          "name": "stdout",
          "text": [
            "epoch: 1 loss: tensor(0.3342)\n",
            "epoch: 2 loss: tensor(0.2475)\n",
            "epoch: 3 loss: tensor(0.2489)\n",
            "epoch: 4 loss: tensor(0.2347)\n",
            "epoch: 5 loss: tensor(0.2466)\n",
            "epoch: 6 loss: tensor(0.2469)\n",
            "epoch: 7 loss: tensor(0.2460)\n",
            "epoch: 8 loss: tensor(0.2467)\n",
            "epoch: 9 loss: tensor(0.2424)\n",
            "epoch: 10 loss: tensor(0.2464)\n"
          ]
        }
      ],
      "source": [
        "nb_epoch = 10\n",
        "for epoch in range(1, nb_epoch + 1):\n",
        "  train_loss = 0\n",
        "  s = 0.\n",
        "  for id_user in range(0, nb_users - batch_size, batch_size):\n",
        "    vk = training_set[id_user : id_user + batch_size]\n",
        "    v0 = training_set[id_user : id_user + batch_size]\n",
        "    ph0,_ = rbm.sample_h(v0)\n",
        "    for k in range(10):\n",
        "      _,hk = rbm.sample_h(vk)\n",
        "      _,vk = rbm.sample_v(hk)\n",
        "      vk[v0<0] = v0[v0<0]\n",
        "    phk,_ = rbm.sample_h(vk)\n",
        "    rbm.train(v0, vk, ph0, phk)\n",
        "    train_loss += torch.mean(torch.abs(v0[v0 >= 0] - vk[v0 >= 0]))\n",
        "    s += 1.\n",
        "  print('epoch: '+str(epoch)+' loss: '+str(train_loss/s))"
      ]
    },
    {
      "cell_type": "markdown",
      "metadata": {
        "id": "Bak5uc8gd-gX"
      },
      "source": [
        "# **Inference**"
      ]
    },
    {
      "cell_type": "code",
      "execution_count": 9,
      "metadata": {
        "colab": {
          "base_uri": "https://localhost:8080/"
        },
        "id": "5ztvzYRtiGCz",
        "outputId": "29c25041-f239-4d85-a592-099c9e526146"
      },
      "outputs": [
        {
          "output_type": "stream",
          "name": "stdout",
          "text": [
            "test loss: tensor(0.1156)\n"
          ]
        }
      ],
      "source": [
        "test_loss = 0\n",
        "s = 0.\n",
        "for id_user in range(nb_users):\n",
        "    v = training_set[id_user:id_user+1]\n",
        "    vt = test_set[id_user:id_user+1]\n",
        "    if len(vt[vt>=0]) > 0:\n",
        "        _,h = rbm.sample_h(v)\n",
        "        _,v = rbm.sample_v(h)\n",
        "        test_loss += torch.mean(torch.abs(vt[vt>=0] - v[vt>=0]))\n",
        "        s += 1.\n",
        "print('test loss: '+str(test_loss/s))"
      ]
    }
  ],
  "metadata": {
    "colab": {
      "collapsed_sections": [
        "oZg9zk82PPP_",
        "6kkL8NkkdlZj",
        "7gy59alAdloL",
        "Bak5uc8gd-gX"
      ],
      "provenance": []
    },
    "kernelspec": {
      "display_name": "Python 3",
      "name": "python3"
    }
  },
  "nbformat": 4,
  "nbformat_minor": 0
}