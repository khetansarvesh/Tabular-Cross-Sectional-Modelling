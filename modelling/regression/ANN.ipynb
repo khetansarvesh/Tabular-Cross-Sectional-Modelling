{
  "cells": [
    {
      "cell_type": "markdown",
      "metadata": {
        "id": "Fk4o_LS-jc--"
      },
      "source": [
        "[![Open In Colab](https://colab.research.google.com/assets/colab-badge.svg)](https://colab.research.google.com/github/khetansarvesh/Tabular-Cross-Sectional-Modelling/blob/main/modelling/regression/ANN.ipynb)"
      ]
    },
    {
      "cell_type": "code",
      "source": [
        "import torch\n",
        "import torch.nn as nn\n",
        "\n",
        "import numpy as np\n",
        "import matplotlib.pyplot as plt\n",
        "from sklearn.datasets import make_classification\n",
        "from sklearn.model_selection import train_test_split\n",
        "from sklearn.datasets import make_regression\n",
        "from sklearn.preprocessing import StandardScaler\n",
        "from sklearn.metrics import r2_score, mean_squared_error, mean_absolute_error"
      ],
      "metadata": {
        "id": "NU_P4sNH-pky"
      },
      "execution_count": 1,
      "outputs": []
    },
    {
      "cell_type": "markdown",
      "source": [
        "# **Using Pytorch Library**"
      ],
      "metadata": {
        "id": "JLpBSPyVoKSi"
      }
    },
    {
      "cell_type": "markdown",
      "source": [
        "## Data Processing"
      ],
      "metadata": {
        "id": "bmDWxZux-IgG"
      }
    },
    {
      "cell_type": "code",
      "source": [
        "x = torch.randn(10, 5) # creating sample dataset with just 5 independent features - x1,x2,x3,x4,x5 and 2 rows\n",
        "x"
      ],
      "metadata": {
        "id": "05ekSgoi-Ld-",
        "outputId": "b3e0f087-97ff-4d04-d04a-1189923e276d",
        "colab": {
          "base_uri": "https://localhost:8080/"
        }
      },
      "execution_count": 2,
      "outputs": [
        {
          "output_type": "execute_result",
          "data": {
            "text/plain": [
              "tensor([[ 0.5735,  0.3216, -0.4063, -0.8680, -0.9297],\n",
              "        [-1.5721, -1.0972,  1.2874, -0.3608,  1.6875],\n",
              "        [-1.3791,  1.4648,  0.0249, -0.2172,  1.8558],\n",
              "        [ 1.2243, -0.5385,  0.4889, -1.4185,  0.9299],\n",
              "        [-0.0999,  0.6914, -0.4404, -0.3492,  0.5248],\n",
              "        [ 1.6019,  0.3271,  0.5663,  0.8342, -1.8867],\n",
              "        [ 0.3440, -0.8186, -0.5206, -0.0775, -0.1463],\n",
              "        [-0.0071, -0.2167,  1.0605, -0.5821, -1.5853],\n",
              "        [-0.7526, -0.7772,  0.8142,  0.4499,  0.7371],\n",
              "        [-0.8481, -1.0530, -0.2697, -0.9388, -0.6806]])"
            ]
          },
          "metadata": {},
          "execution_count": 2
        }
      ]
    },
    {
      "cell_type": "code",
      "source": [
        "# Create the y data\n",
        "y = torch.randn(10, 1)\n",
        "y"
      ],
      "metadata": {
        "id": "k1tkYPjW-NBe",
        "outputId": "64a8e427-32a1-48f1-9a05-8c24f44cae82",
        "colab": {
          "base_uri": "https://localhost:8080/"
        }
      },
      "execution_count": 3,
      "outputs": [
        {
          "output_type": "execute_result",
          "data": {
            "text/plain": [
              "tensor([[-1.1673],\n",
              "        [ 0.4227],\n",
              "        [ 0.9186],\n",
              "        [-0.8102],\n",
              "        [ 1.0306],\n",
              "        [-0.6244],\n",
              "        [ 1.3293],\n",
              "        [-0.2073],\n",
              "        [ 0.9589],\n",
              "        [-0.2692]])"
            ]
          },
          "metadata": {},
          "execution_count": 3
        }
      ]
    },
    {
      "cell_type": "markdown",
      "source": [
        "## Modelling"
      ],
      "metadata": {
        "id": "WFknf05o-1NC"
      }
    },
    {
      "cell_type": "code",
      "execution_count": 4,
      "metadata": {
        "id": "J2P7eZiMj32_"
      },
      "outputs": [],
      "source": [
        "# creating a one hidden layer FFNN for regression\n",
        "class SarveshANN(nn.Module):\n",
        "\n",
        "  def __init__(self, input_size = 5, hidden_size = 10, output_size = 1): # 5 cause we have 5 features, 10 hidden units in hiddlen layer1 and just 1 output unit\n",
        "    super(SarveshANN, self).__init__()\n",
        "    self.model = nn.Sequential(\n",
        "        nn.Linear(input_size, hidden_size),nn.ReLU(),\n",
        "        nn.Linear(hidden_size, output_size),nn.Identity() # nn.Sigmoid() and nn.LeakyReLU()\n",
        "    )\n",
        "\n",
        "  def forward(self, x):\n",
        "    return self.model(x)\n",
        "\n",
        "#Here is an alternative way to define the same class. You can see that we can replace nn.Sequential by defining the individual layers in the __init__ method and connecting the in the forward function.\n",
        "#class MultilayerPerceptron(nn.Module):\n",
        "\n",
        "#  def __init__(self, input_size = 5, hidden_size = 10, output_size = 1):\n",
        "#    super(MultilayerPerceptron, self).__init__()\n",
        "#    self.linear = nn.Linear(input_size, hidden_size)\n",
        "#    self.relu = nn.ReLU()\n",
        "#    self.linear2 = nn.Linear(hidden_size, output_size)\n",
        "#    self.sigmoid = nn.Sigmoid()\n",
        "\n",
        "#  def forward(self, x):\n",
        "#    linear = self.linear(x)\n",
        "#    relu = self.relu(linear)\n",
        "#    linear2 = self.linear2(relu)\n",
        "#    output = self.sigmoid(linear2)\n",
        "#    return output"
      ]
    },
    {
      "cell_type": "code",
      "execution_count": 5,
      "metadata": {
        "colab": {
          "base_uri": "https://localhost:8080/"
        },
        "id": "cXi0T0FZbV0y",
        "outputId": "a12befde-1ad0-4674-cc91-278fadf877b6"
      },
      "outputs": [
        {
          "output_type": "stream",
          "name": "stdout",
          "text": [
            "SarveshANN(\n",
            "  (model): Sequential(\n",
            "    (0): Linear(in_features=5, out_features=10, bias=True)\n",
            "    (1): ReLU()\n",
            "    (2): Linear(in_features=10, out_features=1, bias=True)\n",
            "    (3): Identity()\n",
            "  )\n",
            ")\n"
          ]
        }
      ],
      "source": [
        "model = SarveshANN()\n",
        "print(model)"
      ]
    },
    {
      "cell_type": "code",
      "execution_count": 6,
      "metadata": {
        "colab": {
          "base_uri": "https://localhost:8080/"
        },
        "id": "7d23soYIb2WZ",
        "outputId": "551eabe3-12fa-4b9a-d53c-8c90b20cffdc"
      },
      "outputs": [
        {
          "output_type": "execute_result",
          "data": {
            "text/plain": [
              "[('model.0.weight',\n",
              "  Parameter containing:\n",
              "  tensor([[-0.3315,  0.1719,  0.2954,  0.4191,  0.1928],\n",
              "          [ 0.2622,  0.4154, -0.1604,  0.3762, -0.2619],\n",
              "          [ 0.3142,  0.3027, -0.1464, -0.0748,  0.2092],\n",
              "          [-0.1654, -0.2037,  0.0038, -0.2757, -0.0425],\n",
              "          [-0.1058, -0.2375, -0.2174,  0.0518,  0.2674],\n",
              "          [ 0.0740, -0.4104,  0.4351, -0.4386,  0.2769],\n",
              "          [ 0.1942, -0.2375, -0.3726,  0.1471, -0.1775],\n",
              "          [ 0.2108,  0.3415, -0.4429, -0.4171,  0.3387],\n",
              "          [ 0.4443, -0.0314, -0.3438,  0.4007,  0.1270],\n",
              "          [ 0.2616, -0.0256,  0.2086, -0.0108, -0.1076]], requires_grad=True)),\n",
              " ('model.0.bias',\n",
              "  Parameter containing:\n",
              "  tensor([ 0.3727,  0.4201, -0.4403, -0.0602,  0.2153,  0.0694, -0.3644, -0.2356,\n",
              "          -0.1612, -0.0343], requires_grad=True)),\n",
              " ('model.2.weight',\n",
              "  Parameter containing:\n",
              "  tensor([[ 0.2308, -0.1047,  0.1901, -0.1783, -0.0847,  0.3087,  0.0953,  0.0040,\n",
              "           -0.1520,  0.1609]], requires_grad=True)),\n",
              " ('model.2.bias',\n",
              "  Parameter containing:\n",
              "  tensor([0.1507], requires_grad=True))]"
            ]
          },
          "metadata": {},
          "execution_count": 6
        }
      ],
      "source": [
        "list(model.named_parameters()) #alternative to this is model.parameters() function -> these function gives the initial random parameters the model is taking"
      ]
    },
    {
      "cell_type": "markdown",
      "source": [
        "## Training"
      ],
      "metadata": {
        "id": "Ema1lnYp_A4L"
      }
    },
    {
      "cell_type": "code",
      "execution_count": 7,
      "metadata": {
        "id": "2oA2XsdsbN8p"
      },
      "outputs": [],
      "source": [
        "# Define the optimizer\n",
        "import torch.optim as optim\n",
        "adam = optim.Adam(model.parameters(), lr=1e-1)\n",
        "\n",
        "# Define loss using a predefined loss function\n",
        "loss_function = nn.MSELoss()"
      ]
    },
    {
      "cell_type": "code",
      "execution_count": 8,
      "metadata": {
        "colab": {
          "base_uri": "https://localhost:8080/"
        },
        "id": "ogl6-Ctmuek6",
        "outputId": "b14c3bfd-9841-43b2-b2d4-f1afa8dce6b3"
      },
      "outputs": [
        {
          "output_type": "stream",
          "name": "stdout",
          "text": [
            "Epoch 0: traing loss: 0.7238559126853943\n",
            "Epoch 1: traing loss: 0.4616270959377289\n",
            "Epoch 2: traing loss: 0.3622797131538391\n",
            "Epoch 3: traing loss: 0.291158527135849\n",
            "Epoch 4: traing loss: 0.20883259177207947\n",
            "Epoch 5: traing loss: 0.13521096110343933\n",
            "Epoch 6: traing loss: 0.11236502975225449\n",
            "Epoch 7: traing loss: 0.10875433683395386\n",
            "Epoch 8: traing loss: 0.07642270624637604\n",
            "Epoch 9: traing loss: 0.05120859667658806\n"
          ]
        }
      ],
      "source": [
        "# training for 10 epochs\n",
        "for epoch in range(10):\n",
        "\n",
        "  #Set the gradients to 0\n",
        "  adam.zero_grad()\n",
        "\n",
        "  #forward propagation\n",
        "  y_pred = model(x)\n",
        "  loss = loss_function(y_pred, y)\n",
        "  print(f\"Epoch {epoch}: traing loss: {loss}\")\n",
        "\n",
        "  #backward propagation to compute the gradients\n",
        "  loss.backward()\n",
        "\n",
        "  #Updating weights - Take a step to optimize the weights\n",
        "  adam.step()\n"
      ]
    },
    {
      "cell_type": "code",
      "execution_count": 9,
      "metadata": {
        "colab": {
          "base_uri": "https://localhost:8080/"
        },
        "id": "ZrMJ8AmqeCY-",
        "outputId": "b16d5168-bb87-41c9-8098-36d627226a22"
      },
      "outputs": [
        {
          "output_type": "execute_result",
          "data": {
            "text/plain": [
              "[Parameter containing:\n",
              " tensor([[-0.3463,  0.4893, -0.3852,  0.7432,  0.5503],\n",
              "         [ 0.7996,  0.6575, -0.3329, -0.2822, -0.6179],\n",
              "         [-0.1046,  0.7215, -0.5651,  0.3439, -0.2096],\n",
              "         [ 0.0794,  0.1372,  0.1321, -1.1493,  0.1158],\n",
              "         [ 0.3498, -0.6159, -0.1955,  0.1846,  0.4339],\n",
              "         [-0.4775, -0.4421, -0.2278,  0.1228, -0.3686],\n",
              "         [ 0.4701, -0.7845, -1.0019,  0.5510,  0.4515],\n",
              "         [ 0.4456,  0.0307, -0.0338, -0.6453,  0.4981],\n",
              "         [ 0.3424,  0.2369, -0.2101,  0.3727,  0.1966],\n",
              "         [-0.2338,  0.4287, -0.0977,  0.4218,  0.4113]], requires_grad=True),\n",
              " Parameter containing:\n",
              " tensor([ 0.9612, -0.3708, -0.8591, -0.1143,  0.3620, -0.1867,  0.0374, -0.7680,\n",
              "         -0.7459, -0.4705], requires_grad=True),\n",
              " Parameter containing:\n",
              " tensor([[ 0.5694, -0.4056, -0.2287, -0.8405,  0.1574, -0.2690,  0.7462, -0.0363,\n",
              "           0.0089, -0.3246]], requires_grad=True),\n",
              " Parameter containing:\n",
              " tensor([0.2017], requires_grad=True)]"
            ]
          },
          "metadata": {},
          "execution_count": 9
        }
      ],
      "source": [
        "list(model.parameters()) #parameters learnt after training"
      ]
    },
    {
      "cell_type": "markdown",
      "metadata": {
        "id": "LMCbroAus5H4"
      },
      "source": [
        "## Inference"
      ]
    },
    {
      "cell_type": "code",
      "execution_count": 10,
      "metadata": {
        "colab": {
          "base_uri": "https://localhost:8080/"
        },
        "id": "gRqE7P9EtvuS",
        "outputId": "70c3230e-2a0b-4f28-c184-63b728d535d1"
      },
      "outputs": [
        {
          "output_type": "execute_result",
          "data": {
            "text/plain": [
              "tensor([[-0.9890],\n",
              "        [ 0.6367],\n",
              "        [ 1.1661],\n",
              "        [-0.9566],\n",
              "        [ 0.7818],\n",
              "        [-0.5555],\n",
              "        [ 1.5368],\n",
              "        [-0.3623],\n",
              "        [ 1.0656],\n",
              "        [-0.5250]], grad_fn=<AddmmBackward0>)"
            ]
          },
          "metadata": {},
          "execution_count": 10
        }
      ],
      "source": [
        "# See how our model performs on the training data\n",
        "y_pred = model(x)\n",
        "y_pred"
      ]
    },
    {
      "cell_type": "markdown",
      "source": [
        "# **Without Using Pytorch Library**"
      ],
      "metadata": {
        "id": "Vz_BCzwpn1lT"
      }
    },
    {
      "cell_type": "markdown",
      "source": [
        "## Data Preprocessing"
      ],
      "metadata": {
        "id": "owkG6ECPpEGR"
      }
    },
    {
      "cell_type": "code",
      "source": [
        "# Generate 1D data\n",
        "np.random.seed(42)\n",
        "X = np.linspace(-3, 3, 300).reshape(-1, 1)\n",
        "y = np.sin(X) + 0.1 * np.random.normal(0, 1, X.shape)\n",
        "\n",
        "# Split data\n",
        "X_train, X_test, y_train, y_test = train_test_split(X, y, test_size=0.2, random_state=42)"
      ],
      "metadata": {
        "id": "HzNzMvuvx9sL"
      },
      "execution_count": 38,
      "outputs": []
    },
    {
      "cell_type": "markdown",
      "source": [
        "## Modelling"
      ],
      "metadata": {
        "id": "_r-YmbgcpHEY"
      }
    },
    {
      "cell_type": "code",
      "source": [
        "class SingleHiddenLayerNNRegression:\n",
        "\n",
        "    def __init__(self, input_size, hidden_size, output_size=1, learning_rate=0.01):\n",
        "\n",
        "        self.input_size = input_size\n",
        "        self.hidden_size = hidden_size\n",
        "        self.output_size = output_size\n",
        "        self.learning_rate = learning_rate\n",
        "\n",
        "        # Initialize weights and biases with small random values\n",
        "        self.W1 = np.random.randn(self.input_size, self.hidden_size) * 0.1\n",
        "        self.b1 = np.zeros((1, self.hidden_size))\n",
        "        self.W2 = np.random.randn(self.hidden_size, self.output_size) * 0.1\n",
        "        self.b2 = np.zeros((1, self.output_size))\n",
        "\n",
        "    def sigmoid(self, z):\n",
        "        z = np.clip(z, -500, 500)\n",
        "        return 1 / (1 + np.exp(-z))\n",
        "\n",
        "    def sigmoid_derivative(self, a):\n",
        "        return a * (1 - a)\n",
        "\n",
        "    def linear(self, z):\n",
        "        return z\n",
        "\n",
        "    def forward_pass(self, X):\n",
        "        self.z1 = np.dot(X, self.W1) + self.b1\n",
        "        self.a1 = self.sigmoid(self.z1)\n",
        "        self.z2 = np.dot(self.a1, self.W2) + self.b2\n",
        "        self.a2 = self.linear(self.z2)\n",
        "        return self.a2\n",
        "\n",
        "    def compute_loss(self, y_true, y_pred):\n",
        "        \"\"\"Compute Mean Squared Error (MSE) loss for regression\"\"\"\n",
        "        m = y_true.shape[0]\n",
        "        mse = np.sum((y_pred - y_true) ** 2) / (2 * m)  # MSE = (1/2m) * sum((y_pred - y_true)²)\n",
        "        return mse\n",
        "\n",
        "    def train(self, X, y, epochs=10000, verbose=True):\n",
        "        losses = []\n",
        "\n",
        "        for epoch in range(epochs):\n",
        "\n",
        "            '''Make Prediction using Forward Pass'''\n",
        "            y_pred = self.forward_pass(X)\n",
        "\n",
        "            '''Compute Loss'''\n",
        "            loss = self.compute_loss(y, y_pred)\n",
        "            losses.append(loss)\n",
        "\n",
        "            '''Backward Pass '''\n",
        "            dz2 = (y_pred - y) / X.shape[0] # Output layer gradients / number of training examples\n",
        "            dW2 = np.dot(self.a1.T, dz2) # Output Layer Weights Gradient\n",
        "            db2 = np.sum(dz2, axis=0, keepdims=True) # Output Layer Bias Gradient\n",
        "            dz1 = np.dot(dz2, self.W2.T) * self.sigmoid_derivative(self.a1) # Hidden layer gradients\n",
        "            dW1 = np.dot(X.T, dz1) # Hidden Layer Weights Gradient\n",
        "            db1 = np.sum(dz1, axis=0, keepdims=True) # Hidden Layer Bias Gradient\n",
        "\n",
        "            '''Update Weights'''\n",
        "            self.W1 -= self.learning_rate * dW1\n",
        "            self.b1 -= self.learning_rate * db1\n",
        "            self.W2 -= self.learning_rate * dW2\n",
        "            self.b2 -= self.learning_rate * db2\n",
        "\n",
        "            # Print progress\n",
        "            if verbose and epoch % 200 == 0:\n",
        "                r2 = self.compute_r2(y, y_pred)\n",
        "                print(f\"Epoch {epoch}, MSE Loss: {loss:.6f}, R²: {r2:.4f}\")\n",
        "\n",
        "        return losses\n",
        "\n",
        "    def predict(self, X):\n",
        "        return self.forward_pass(X)\n",
        "\n",
        "    def compute_r2(self, y_true, y_pred):\n",
        "        ss_res = np.sum((y_true - y_pred) ** 2)\n",
        "        ss_tot = np.sum((y_true - np.mean(y_true)) ** 2)\n",
        "        r2 = 1 - (ss_res / ss_tot)\n",
        "        return r2\n",
        "\n",
        "    def compute_metrics(self, y_true, y_pred):\n",
        "        mse = mean_squared_error(y_true, y_pred)\n",
        "        mae = mean_absolute_error(y_true, y_pred)\n",
        "        r2 = r2_score(y_true, y_pred)\n",
        "        rmse = np.sqrt(mse)\n",
        "        return {'MSE': mse,'RMSE': rmse,'MAE': mae,'R²': r2}"
      ],
      "metadata": {
        "id": "vc58Tg_GxYz1"
      },
      "execution_count": 39,
      "outputs": []
    },
    {
      "cell_type": "markdown",
      "source": [
        "## Training"
      ],
      "metadata": {
        "id": "a0sTRwkrpsNt"
      }
    },
    {
      "cell_type": "code",
      "source": [
        "nn = SingleHiddenLayerNNRegression(input_size=1, hidden_size=10, output_size=1, learning_rate=0.1)\n",
        "losses = nn.train(X_train, y_train, epochs=1500, verbose=False)"
      ],
      "metadata": {
        "id": "8FdMxnjMpwuR"
      },
      "execution_count": 40,
      "outputs": []
    },
    {
      "cell_type": "markdown",
      "source": [
        "## Inference"
      ],
      "metadata": {
        "id": "2u4q4V09qAkT"
      }
    },
    {
      "cell_type": "code",
      "source": [
        "# Predictions\n",
        "y_pred = nn.predict(X_test)\n",
        "\n",
        "# Create smooth curve for visualization\n",
        "X_smooth = np.linspace(-3, 3, 100).reshape(-1, 1)\n",
        "y_smooth = nn.predict(X_smooth)\n",
        "\n",
        "# Plot results\n",
        "plt.figure(figsize=(12, 4))\n",
        "\n",
        "plt.subplot(1, 2, 1)\n",
        "plt.plot(losses)\n",
        "plt.title('Training Loss')\n",
        "plt.xlabel('Epoch')\n",
        "plt.ylabel('MSE')\n",
        "plt.yscale('log')\n",
        "plt.grid(True)\n",
        "\n",
        "plt.subplot(1, 2, 2)\n",
        "plt.scatter(X_train, y_train, alpha=0.6, label='Training Data', s=20)\n",
        "plt.scatter(X_test, y_test, alpha=0.6, color='red', label='Test Data', s=20)\n",
        "plt.plot(X_smooth, y_smooth, 'g-', linewidth=2, label='Neural Network Fit')\n",
        "plt.plot(X_smooth, np.sin(X_smooth), 'k--', alpha=0.7, label='True Function (sin(x))')\n",
        "plt.xlabel('X')\n",
        "plt.ylabel('Y')\n",
        "plt.title('1D Regression: Neural Network vs True Function')\n",
        "plt.legend()\n",
        "plt.grid(True)\n",
        "\n",
        "plt.tight_layout()\n",
        "plt.show()\n",
        "\n",
        "# Compute test metrics\n",
        "test_metrics = nn.compute_metrics(y_test, y_pred)\n",
        "print(\"1D Regression Test Metrics:\")\n",
        "for metric, value in test_metrics.items():\n",
        "    print(f\"  {metric}: {value:.4f}\")"
      ],
      "metadata": {
        "id": "7Fuu3kgey7IL",
        "outputId": "e9d5a06b-36af-4719-f8fd-2fbc6ef8b4d2",
        "colab": {
          "base_uri": "https://localhost:8080/",
          "height": 494
        }
      },
      "execution_count": 41,
      "outputs": [
        {
          "output_type": "display_data",
          "data": {
            "text/plain": [
              "<Figure size 1200x400 with 2 Axes>"
            ],
            "image/png": "[encoded data removed]"
          },
          "metadata": {}
        },
        {
          "output_type": "stream",
          "name": "stdout",
          "text": [
            "1D Regression Test Metrics:\n",
            "  MSE: 0.0686\n",
            "  RMSE: 0.2619\n",
            "  MAE: 0.2178\n",
            "  R²: 0.8865\n"
          ]
        }
      ]
    },
    {
      "cell_type": "code",
      "source": [],
      "metadata": {
        "id": "uKg_p0TdGiq0"
      },
      "execution_count": null,
      "outputs": []
    }
  ],
  "metadata": {
    "colab": {
      "collapsed_sections": [
        "brppqfkbk4CY",
        "KxgAuUdIrHj5",
        "iiPb-LnPqQa7",
        "wpvpOzruq_8I",
        "GkJ81p3GUVPM",
        "ZHcL3owPs24z",
        "LMCbroAus5H4"
      ],
      "provenance": []
    },
    "kernelspec": {
      "display_name": "Python 3",
      "name": "python3"
    },
    "language_info": {
      "name": "python"
    }
  },
  "nbformat": 4,
  "nbformat_minor": 0
}